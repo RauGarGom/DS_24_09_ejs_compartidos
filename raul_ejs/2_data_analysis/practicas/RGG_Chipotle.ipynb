{
 "cells": [
  {
   "attachments": {},
   "cell_type": "markdown",
   "metadata": {},
   "source": [
    "# Ex1 - Filtering and Sorting Data"
   ]
  },
  {
   "attachments": {},
   "cell_type": "markdown",
   "metadata": {},
   "source": [
    "\n",
    "\n",
    "### Step 1. Import the necessary libraries"
   ]
  },
  {
   "cell_type": "code",
   "execution_count": 83,
   "metadata": {},
   "outputs": [],
   "source": [
    "import numpy as np\n",
    "import pandas as pd"
   ]
  },
  {
   "attachments": {},
   "cell_type": "markdown",
   "metadata": {},
   "source": [
    "### Step 2. Import the dataset from this [address](https://raw.githubusercontent.com/justmarkham/DAT8/master/data/chipotle.tsv) and assign it to a variable called chipo."
   ]
  },
  {
   "cell_type": "code",
   "execution_count": 126,
   "metadata": {},
   "outputs": [
    {
     "name": "stdout",
     "output_type": "stream",
     "text": [
      "   order_id  quantity                              item_name  \\\n",
      "0         1         1           Chips and Fresh Tomato Salsa   \n",
      "1         1         1                                   Izze   \n",
      "2         1         1                       Nantucket Nectar   \n",
      "3         1         1  Chips and Tomatillo-Green Chili Salsa   \n",
      "4         2         2                           Chicken Bowl   \n",
      "\n",
      "                                  choice_description item_price  \n",
      "0                                                NaN     $2.39   \n",
      "1                                       [Clementine]     $3.39   \n",
      "2                                            [Apple]     $3.39   \n",
      "3                                                NaN     $2.39   \n",
      "4  [Tomatillo-Red Chili Salsa (Hot), [Black Beans...    $16.98   \n",
      "<class 'pandas.core.frame.DataFrame'>\n",
      "RangeIndex: 4622 entries, 0 to 4621\n",
      "Data columns (total 5 columns):\n",
      " #   Column              Non-Null Count  Dtype \n",
      "---  ------              --------------  ----- \n",
      " 0   order_id            4622 non-null   int64 \n",
      " 1   quantity            4622 non-null   int64 \n",
      " 2   item_name           4622 non-null   object\n",
      " 3   choice_description  3376 non-null   object\n",
      " 4   item_price          4622 non-null   object\n",
      "dtypes: int64(2), object(3)\n",
      "memory usage: 180.7+ KB\n",
      "None\n",
      "====================\n",
      "           order_id     quantity     item_name choice_description item_price\n",
      "count   4622.000000  4622.000000          4622               3376       4622\n",
      "unique          NaN          NaN            50               1043         78\n",
      "top             NaN          NaN  Chicken Bowl        [Diet Coke]     $8.75 \n",
      "freq            NaN          NaN           726                134        730\n",
      "mean     927.254868     1.075725           NaN                NaN        NaN\n",
      "std      528.890796     0.410186           NaN                NaN        NaN\n",
      "min        1.000000     1.000000           NaN                NaN        NaN\n",
      "25%      477.250000     1.000000           NaN                NaN        NaN\n",
      "50%      926.000000     1.000000           NaN                NaN        NaN\n",
      "75%     1393.000000     1.000000           NaN                NaN        NaN\n",
      "max     1834.000000    15.000000           NaN                NaN        NaN\n"
     ]
    }
   ],
   "source": [
    "chipo = pd.read_csv(\"https://raw.githubusercontent.com/justmarkham/DAT8/master/data/chipotle.tsv\", sep=\"\\t\")\n",
    "print(chipo.head())\n",
    "print(chipo.info())\n",
    "print(\"=\"*20)\n",
    "print(chipo.describe(include=\"all\"))"
   ]
  },
  {
   "cell_type": "code",
   "execution_count": 127,
   "metadata": {},
   "outputs": [
    {
     "name": "stdout",
     "output_type": "stream",
     "text": [
      "<class 'pandas.core.frame.DataFrame'>\n",
      "RangeIndex: 4622 entries, 0 to 4621\n",
      "Data columns (total 5 columns):\n",
      " #   Column              Non-Null Count  Dtype  \n",
      "---  ------              --------------  -----  \n",
      " 0   order_id            4622 non-null   int64  \n",
      " 1   quantity            4622 non-null   int64  \n",
      " 2   item_name           4622 non-null   object \n",
      " 3   choice_description  4622 non-null   object \n",
      " 4   item_price          4622 non-null   float64\n",
      "dtypes: float64(1), int64(2), object(2)\n",
      "memory usage: 180.7+ KB\n",
      "   order_id  quantity                              item_name  \\\n",
      "0         1         1           Chips and Fresh Tomato Salsa   \n",
      "1         1         1                                   Izze   \n",
      "2         1         1                       Nantucket Nectar   \n",
      "3         1         1  Chips and Tomatillo-Green Chili Salsa   \n",
      "4         2         2                           Chicken Bowl   \n",
      "\n",
      "                                  choice_description  item_price  \n",
      "0                                                  _        2.39  \n",
      "1                                       [Clementine]        3.39  \n",
      "2                                            [Apple]        3.39  \n",
      "3                                                  _        2.39  \n",
      "4  [Tomatillo-Red Chili Salsa (Hot), [Black Beans...       16.98  \n"
     ]
    }
   ],
   "source": [
    "###Limpieza\n",
    "chipo = chipo.fillna(\"_\")\n",
    "chipo[\"item_price\"] = chipo[\"item_price\"].str.replace(\"$\",\"\")\n",
    "chipo[\"item_price\"] = chipo[\"item_price\"].astype(float)\n",
    "chipo.info()\n",
    "print(chipo.head())\n"
   ]
  },
  {
   "attachments": {},
   "cell_type": "markdown",
   "metadata": {},
   "source": [
    "### Step 3. Name of the max valued product"
   ]
  },
  {
   "cell_type": "code",
   "execution_count": 245,
   "metadata": {},
   "outputs": [
    {
     "data": {
      "text/plain": [
       "order_id                                                            123\n",
       "quantity                                                              2\n",
       "item_name                                              Steak Salad Bowl\n",
       "choice_description    [Tomatillo Red Chili Salsa, [Black Beans, Chee...\n",
       "item_price                                                        23.78\n",
       "unit_price                                                        11.89\n",
       "order_price                                                        13.7\n",
       "Name: 281, dtype: object"
      ]
     },
     "execution_count": 245,
     "metadata": {},
     "output_type": "execute_result"
    }
   ],
   "source": [
    "chipo[\"unit_price\"] = chipo[\"item_price\"]/chipo[\"quantity\"]\n",
    "chipo.loc[chipo[\"unit_price\"].idxmax()]"
   ]
  },
  {
   "attachments": {},
   "cell_type": "markdown",
   "metadata": {},
   "source": [
    "### Step 4. How many products cost more than $10.00?"
   ]
  },
  {
   "cell_type": "code",
   "execution_count": 247,
   "metadata": {},
   "outputs": [
    {
     "name": "stdout",
     "output_type": "stream",
     "text": [
      "25 productos\n"
     ]
    }
   ],
   "source": [
    "# print(chipo[\"unit_price\"][chipo[\"unit_price\"] > 10].count(),\"productos\")\n",
    "print(len(chipo[\"item_name\"][chipo[\"unit_price\"] > 10].unique()),\"productos\")"
   ]
  },
  {
   "attachments": {},
   "cell_type": "markdown",
   "metadata": {},
   "source": [
    "### Step 4.1: Y cuántos pedidos se han hecho con un producto de más de 10$? Es lo mismo?"
   ]
  },
  {
   "cell_type": "code",
   "execution_count": 151,
   "metadata": {},
   "outputs": [
    {
     "name": "stdout",
     "output_type": "stream",
     "text": [
      "787 Pedidos\n"
     ]
    }
   ],
   "source": [
    "orders_count = chipo[\"order_id\"][chipo[\"unit_price\"] > 10].unique()\n",
    "print(orders_count.size,\"Pedidos\")"
   ]
  },
  {
   "cell_type": "markdown",
   "metadata": {},
   "source": [
    "### Step 4.2: Y cuántos pedidos se han hecho de más de 10$? Es lo mismo?"
   ]
  },
  {
   "cell_type": "code",
   "execution_count": 199,
   "metadata": {},
   "outputs": [
    {
     "name": "stdout",
     "output_type": "stream",
     "text": [
      "1834 pedidos de más de 10$\n"
     ]
    },
    {
     "data": {
      "text/plain": [
       "1834"
      ]
     },
     "execution_count": 199,
     "metadata": {},
     "output_type": "execute_result"
    }
   ],
   "source": [
    "orders_tot= chipo.groupby(\"order_id\").sum()[\"item_price\"]\n",
    "print(len(orders_tot[orders_tot > 10]),\"pedidos de más de 10$\")\n",
    "len(orders_tot[orders_tot > 10])"
   ]
  },
  {
   "cell_type": "markdown",
   "metadata": {},
   "source": [
    "### Step 4.3: Y en cuántos pedidos se ha pagado más de 10$ por un mismo producto? Es lo mismo?"
   ]
  },
  {
   "cell_type": "code",
   "execution_count": null,
   "metadata": {},
   "outputs": [],
   "source": [
    "### TODO"
   ]
  },
  {
   "attachments": {},
   "cell_type": "markdown",
   "metadata": {},
   "source": [
    "### Step 5. What is the price of each item and name it unit_price. Get only item_name and unit_price"
   ]
  },
  {
   "cell_type": "code",
   "execution_count": 267,
   "metadata": {},
   "outputs": [
    {
     "data": {
      "text/plain": [
       "item_name\n",
       "6 Pack Soft Drink                         6.490000\n",
       "Barbacoa Bowl                            10.187273\n",
       "Barbacoa Burrito                          9.832418\n",
       "Barbacoa Crispy Tacos                    10.087273\n",
       "Barbacoa Salad Bowl                      10.640000\n",
       "Barbacoa Soft Tacos                      10.018400\n",
       "Bottled Water                             1.431667\n",
       "Bowl                                      7.400000\n",
       "Burrito                                   7.400000\n",
       "Canned Soda                               1.090000\n",
       "Canned Soft Drink                         1.250000\n",
       "Carnitas Bowl                            10.315588\n",
       "Carnitas Burrito                          9.975932\n",
       "Carnitas Crispy Tacos                     9.852857\n",
       "Carnitas Salad                            8.990000\n",
       "Carnitas Salad Bowl                      11.056667\n",
       "Carnitas Soft Tacos                       9.398500\n",
       "Chicken Bowl                              9.657727\n",
       "Chicken Burrito                           9.475949\n",
       "Chicken Crispy Tacos                      9.492340\n",
       "Chicken Salad                             9.010000\n",
       "Chicken Salad Bowl                        9.909091\n",
       "Chicken Soft Tacos                        9.240261\n",
       "Chips                                     2.149242\n",
       "Chips and Fresh Tomato Salsa              2.748727\n",
       "Chips and Guacamole                       4.345616\n",
       "Chips and Mild Fresh Tomato Salsa         3.000000\n",
       "Chips and Roasted Chili Corn Salsa        2.950000\n",
       "Chips and Roasted Chili-Corn Salsa        2.390000\n",
       "Chips and Tomatillo Green Chili Salsa     2.950000\n",
       "Chips and Tomatillo Red Chili Salsa       2.950000\n",
       "Chips and Tomatillo-Green Chili Salsa     2.390000\n",
       "Chips and Tomatillo-Red Chili Salsa       2.390000\n",
       "Crispy Tacos                              7.400000\n",
       "Izze                                      3.390000\n",
       "Nantucket Nectar                          3.390000\n",
       "Salad                                     7.400000\n",
       "Side of Chips                             1.690000\n",
       "Steak Bowl                               10.232559\n",
       "Steak Burrito                             9.993424\n",
       "Steak Crispy Tacos                        9.952857\n",
       "Steak Salad                               8.915000\n",
       "Steak Salad Bowl                         11.027931\n",
       "Steak Soft Tacos                          9.578182\n",
       "Veggie Bowl                              10.011882\n",
       "Veggie Burrito                            9.602842\n",
       "Veggie Crispy Tacos                       8.490000\n",
       "Veggie Salad                              8.490000\n",
       "Veggie Salad Bowl                        10.138889\n",
       "Veggie Soft Tacos                         9.352857\n",
       "Name: unit_price, dtype: float64"
      ]
     },
     "execution_count": 267,
     "metadata": {},
     "output_type": "execute_result"
    }
   ],
   "source": [
    "item_prices = chipo.copy()\n",
    "item_prices[[\"item_name\",\"unit_price\"]]\n",
    "item_prices.groupby(\"item_name\")[\"unit_price\"].mean()\n"
   ]
  },
  {
   "attachments": {},
   "cell_type": "markdown",
   "metadata": {},
   "source": [
    "### Step 6. Sort by the name of the item"
   ]
  },
  {
   "cell_type": "code",
   "execution_count": 266,
   "metadata": {},
   "outputs": [
    {
     "data": {
      "text/html": [
       "<div>\n",
       "<style scoped>\n",
       "    .dataframe tbody tr th:only-of-type {\n",
       "        vertical-align: middle;\n",
       "    }\n",
       "\n",
       "    .dataframe tbody tr th {\n",
       "        vertical-align: top;\n",
       "    }\n",
       "\n",
       "    .dataframe thead th {\n",
       "        text-align: right;\n",
       "    }\n",
       "</style>\n",
       "<table border=\"1\" class=\"dataframe\">\n",
       "  <thead>\n",
       "    <tr style=\"text-align: right;\">\n",
       "      <th></th>\n",
       "      <th>item_name</th>\n",
       "      <th>unit_price</th>\n",
       "    </tr>\n",
       "  </thead>\n",
       "  <tbody>\n",
       "    <tr>\n",
       "      <th>3389</th>\n",
       "      <td>6 Pack Soft Drink</td>\n",
       "      <td>6.49</td>\n",
       "    </tr>\n",
       "    <tr>\n",
       "      <th>341</th>\n",
       "      <td>6 Pack Soft Drink</td>\n",
       "      <td>6.49</td>\n",
       "    </tr>\n",
       "    <tr>\n",
       "      <th>1849</th>\n",
       "      <td>6 Pack Soft Drink</td>\n",
       "      <td>6.49</td>\n",
       "    </tr>\n",
       "    <tr>\n",
       "      <th>1860</th>\n",
       "      <td>6 Pack Soft Drink</td>\n",
       "      <td>6.49</td>\n",
       "    </tr>\n",
       "    <tr>\n",
       "      <th>2713</th>\n",
       "      <td>6 Pack Soft Drink</td>\n",
       "      <td>6.49</td>\n",
       "    </tr>\n",
       "    <tr>\n",
       "      <th>...</th>\n",
       "      <td>...</td>\n",
       "      <td>...</td>\n",
       "    </tr>\n",
       "    <tr>\n",
       "      <th>2384</th>\n",
       "      <td>Veggie Soft Tacos</td>\n",
       "      <td>8.75</td>\n",
       "    </tr>\n",
       "    <tr>\n",
       "      <th>781</th>\n",
       "      <td>Veggie Soft Tacos</td>\n",
       "      <td>8.75</td>\n",
       "    </tr>\n",
       "    <tr>\n",
       "      <th>2851</th>\n",
       "      <td>Veggie Soft Tacos</td>\n",
       "      <td>8.49</td>\n",
       "    </tr>\n",
       "    <tr>\n",
       "      <th>1699</th>\n",
       "      <td>Veggie Soft Tacos</td>\n",
       "      <td>11.25</td>\n",
       "    </tr>\n",
       "    <tr>\n",
       "      <th>1395</th>\n",
       "      <td>Veggie Soft Tacos</td>\n",
       "      <td>8.49</td>\n",
       "    </tr>\n",
       "  </tbody>\n",
       "</table>\n",
       "<p>4622 rows × 2 columns</p>\n",
       "</div>"
      ],
      "text/plain": [
       "              item_name  unit_price\n",
       "3389  6 Pack Soft Drink        6.49\n",
       "341   6 Pack Soft Drink        6.49\n",
       "1849  6 Pack Soft Drink        6.49\n",
       "1860  6 Pack Soft Drink        6.49\n",
       "2713  6 Pack Soft Drink        6.49\n",
       "...                 ...         ...\n",
       "2384  Veggie Soft Tacos        8.75\n",
       "781   Veggie Soft Tacos        8.75\n",
       "2851  Veggie Soft Tacos        8.49\n",
       "1699  Veggie Soft Tacos       11.25\n",
       "1395  Veggie Soft Tacos        8.49\n",
       "\n",
       "[4622 rows x 2 columns]"
      ]
     },
     "execution_count": 266,
     "metadata": {},
     "output_type": "execute_result"
    }
   ],
   "source": [
    "chipo[[\"item_name\",\"unit_price\"]].sort_values(by = \"item_name\")"
   ]
  },
  {
   "attachments": {},
   "cell_type": "markdown",
   "metadata": {},
   "source": [
    "### Step 7. What was the quantity of the most expensive item ordered? 2 ways"
   ]
  },
  {
   "cell_type": "code",
   "execution_count": null,
   "metadata": {},
   "outputs": [],
   "source": [
    "###TODO"
   ]
  },
  {
   "attachments": {},
   "cell_type": "markdown",
   "metadata": {},
   "source": [
    "### Step 8. How many times was a Veggie Salad Bowl ordered?"
   ]
  },
  {
   "cell_type": "code",
   "execution_count": 228,
   "metadata": {},
   "outputs": [],
   "source": [
    "veggies = chipo.copy()\n",
    "veggies[veggies[\"item_name\"]== \"Veggie Salad Bowl\"] = 1"
   ]
  },
  {
   "cell_type": "code",
   "execution_count": 230,
   "metadata": {},
   "outputs": [
    {
     "name": "stdout",
     "output_type": "stream",
     "text": [
      "18 veces se ha pedido la Veggie Salad Bowl\n"
     ]
    }
   ],
   "source": [
    "veggies = chipo.copy()\n",
    "veggies = veggies[veggies[\"item_name\"]== \"Veggie Salad Bowl\"]\n",
    "veggies[veggies[\"item_name\"]== \"Veggie Salad Bowl\"] = 1\n",
    "veggies [\"item_name\"] = veggies[\"item_name\"].astype(int)\n",
    "veggies [\"item_total\"] = veggies[\"item_name\"]*veggies[\"quantity\"]\n",
    "print(veggies[\"item_total\"].sum(), \"veces se ha pedido la Veggie Salad Bowl\")"
   ]
  },
  {
   "attachments": {},
   "cell_type": "markdown",
   "metadata": {},
   "source": [
    "### Step 9. How many times did someone order more than one Canned Soda?"
   ]
  },
  {
   "cell_type": "code",
   "execution_count": 238,
   "metadata": {},
   "outputs": [
    {
     "name": "stdout",
     "output_type": "stream",
     "text": [
      "20 veces\n"
     ]
    }
   ],
   "source": [
    "canned = chipo.copy()\n",
    "print(len(canned[(canned[\"item_name\"] == \"Canned Soda\") & (canned[\"quantity\"] > 1)]),\"veces\")"
   ]
  }
 ],
 "metadata": {
  "anaconda-cloud": {},
  "kernelspec": {
   "display_name": "Python 3.7.4 64-bit",
   "language": "python",
   "name": "python3"
  },
  "language_info": {
   "codemirror_mode": {
    "name": "ipython",
    "version": 3
   },
   "file_extension": ".py",
   "mimetype": "text/x-python",
   "name": "python",
   "nbconvert_exporter": "python",
   "pygments_lexer": "ipython3",
   "version": "3.12.5"
  },
  "vscode": {
   "interpreter": {
    "hash": "90139cb9a825bf3d63f6f6704e828dbd1ff7edbd4d0c6e906a71235d6efc74af"
   }
  }
 },
 "nbformat": 4,
 "nbformat_minor": 4
}
