{
 "cells": [
  {
   "attachments": {},
   "cell_type": "markdown",
   "metadata": {},
   "source": [
    "### Importa los datos\n",
    "Dataset con diferentes fármacos, sus efectos y ratings de los clientes.\n",
    "\n",
    "Importa el dataset *drugLibTrain_raw.tsv*"
   ]
  },
  {
   "cell_type": "code",
   "execution_count": 27,
   "metadata": {},
   "outputs": [],
   "source": [
    "import pandas as pd\n",
    "import numpy as np\n",
    "import matplotlib.pyplot as plt\n",
    "from sklearn.cluster import KMeans\n",
    "from sklearn.metrics import silhouette_score\n",
    "import seaborn as sns"
   ]
  },
  {
   "cell_type": "code",
   "execution_count": 8,
   "metadata": {},
   "outputs": [
    {
     "data": {
      "text/html": [
       "<div>\n",
       "<style scoped>\n",
       "    .dataframe tbody tr th:only-of-type {\n",
       "        vertical-align: middle;\n",
       "    }\n",
       "\n",
       "    .dataframe tbody tr th {\n",
       "        vertical-align: top;\n",
       "    }\n",
       "\n",
       "    .dataframe thead th {\n",
       "        text-align: right;\n",
       "    }\n",
       "</style>\n",
       "<table border=\"1\" class=\"dataframe\">\n",
       "  <thead>\n",
       "    <tr style=\"text-align: right;\">\n",
       "      <th></th>\n",
       "      <th>urlDrugName</th>\n",
       "      <th>rating</th>\n",
       "      <th>effectiveness</th>\n",
       "      <th>sideEffects</th>\n",
       "      <th>condition</th>\n",
       "      <th>benefitsReview</th>\n",
       "      <th>sideEffectsReview</th>\n",
       "      <th>commentsReview</th>\n",
       "    </tr>\n",
       "  </thead>\n",
       "  <tbody>\n",
       "    <tr>\n",
       "      <th>2202</th>\n",
       "      <td>enalapril</td>\n",
       "      <td>4</td>\n",
       "      <td>Highly Effective</td>\n",
       "      <td>Mild Side Effects</td>\n",
       "      <td>management of congestive heart failure</td>\n",
       "      <td>slowed the progression of left ventricular dys...</td>\n",
       "      <td>cough, hypotension , proteinuria, impotence , ...</td>\n",
       "      <td>monitor blood pressure , weight and asses for ...</td>\n",
       "    </tr>\n",
       "    <tr>\n",
       "      <th>3117</th>\n",
       "      <td>ortho-tri-cyclen</td>\n",
       "      <td>1</td>\n",
       "      <td>Highly Effective</td>\n",
       "      <td>Severe Side Effects</td>\n",
       "      <td>birth prevention</td>\n",
       "      <td>Although this type of birth control has more c...</td>\n",
       "      <td>Heavy Cycle, Cramps, Hot Flashes, Fatigue, Lon...</td>\n",
       "      <td>I Hate This Birth Control, I Would Not Suggest...</td>\n",
       "    </tr>\n",
       "    <tr>\n",
       "      <th>1146</th>\n",
       "      <td>ponstel</td>\n",
       "      <td>10</td>\n",
       "      <td>Highly Effective</td>\n",
       "      <td>No Side Effects</td>\n",
       "      <td>menstrual cramps</td>\n",
       "      <td>I was used to having cramps so badly that they...</td>\n",
       "      <td>Heavier bleeding and clotting than normal.</td>\n",
       "      <td>I took 2 pills at the onset of my menstrual cr...</td>\n",
       "    </tr>\n",
       "    <tr>\n",
       "      <th>3947</th>\n",
       "      <td>prilosec</td>\n",
       "      <td>3</td>\n",
       "      <td>Marginally Effective</td>\n",
       "      <td>Mild Side Effects</td>\n",
       "      <td>acid reflux</td>\n",
       "      <td>The acid reflux went away for a few months aft...</td>\n",
       "      <td>Constipation, dry mouth and some mild dizzines...</td>\n",
       "      <td>I was given Prilosec prescription at a dose of...</td>\n",
       "    </tr>\n",
       "    <tr>\n",
       "      <th>1951</th>\n",
       "      <td>lyrica</td>\n",
       "      <td>2</td>\n",
       "      <td>Marginally Effective</td>\n",
       "      <td>Severe Side Effects</td>\n",
       "      <td>fibromyalgia</td>\n",
       "      <td>I think that the Lyrica was starting to help w...</td>\n",
       "      <td>I felt extremely drugged and dopey.  Could not...</td>\n",
       "      <td>See above</td>\n",
       "    </tr>\n",
       "  </tbody>\n",
       "</table>\n",
       "</div>"
      ],
      "text/plain": [
       "           urlDrugName  rating         effectiveness          sideEffects  \\\n",
       "2202         enalapril       4      Highly Effective    Mild Side Effects   \n",
       "3117  ortho-tri-cyclen       1      Highly Effective  Severe Side Effects   \n",
       "1146           ponstel      10      Highly Effective      No Side Effects   \n",
       "3947          prilosec       3  Marginally Effective    Mild Side Effects   \n",
       "1951            lyrica       2  Marginally Effective  Severe Side Effects   \n",
       "\n",
       "                                   condition  \\\n",
       "2202  management of congestive heart failure   \n",
       "3117                        birth prevention   \n",
       "1146                        menstrual cramps   \n",
       "3947                             acid reflux   \n",
       "1951                            fibromyalgia   \n",
       "\n",
       "                                         benefitsReview  \\\n",
       "2202  slowed the progression of left ventricular dys...   \n",
       "3117  Although this type of birth control has more c...   \n",
       "1146  I was used to having cramps so badly that they...   \n",
       "3947  The acid reflux went away for a few months aft...   \n",
       "1951  I think that the Lyrica was starting to help w...   \n",
       "\n",
       "                                      sideEffectsReview  \\\n",
       "2202  cough, hypotension , proteinuria, impotence , ...   \n",
       "3117  Heavy Cycle, Cramps, Hot Flashes, Fatigue, Lon...   \n",
       "1146         Heavier bleeding and clotting than normal.   \n",
       "3947  Constipation, dry mouth and some mild dizzines...   \n",
       "1951  I felt extremely drugged and dopey.  Could not...   \n",
       "\n",
       "                                         commentsReview  \n",
       "2202  monitor blood pressure , weight and asses for ...  \n",
       "3117  I Hate This Birth Control, I Would Not Suggest...  \n",
       "1146  I took 2 pills at the onset of my menstrual cr...  \n",
       "3947  I was given Prilosec prescription at a dose of...  \n",
       "1951                                          See above  "
      ]
     },
     "execution_count": 8,
     "metadata": {},
     "output_type": "execute_result"
    }
   ],
   "source": [
    "drugs = pd.read_csv('data/drugLibTrain_raw.tsv',sep='\\t',index_col=0)\n",
    "drugs.head()"
   ]
  },
  {
   "cell_type": "code",
   "execution_count": 9,
   "metadata": {},
   "outputs": [
    {
     "name": "stdout",
     "output_type": "stream",
     "text": [
      "<class 'pandas.core.frame.DataFrame'>\n",
      "Index: 3107 entries, 2202 to 2748\n",
      "Data columns (total 8 columns):\n",
      " #   Column             Non-Null Count  Dtype \n",
      "---  ------             --------------  ----- \n",
      " 0   urlDrugName        3107 non-null   object\n",
      " 1   rating             3107 non-null   int64 \n",
      " 2   effectiveness      3107 non-null   object\n",
      " 3   sideEffects        3107 non-null   object\n",
      " 4   condition          3106 non-null   object\n",
      " 5   benefitsReview     3089 non-null   object\n",
      " 6   sideEffectsReview  3032 non-null   object\n",
      " 7   commentsReview     3095 non-null   object\n",
      "dtypes: int64(1), object(7)\n",
      "memory usage: 218.5+ KB\n"
     ]
    }
   ],
   "source": [
    "drugs.info()"
   ]
  },
  {
   "cell_type": "code",
   "execution_count": 10,
   "metadata": {},
   "outputs": [],
   "source": [
    "drugs = drugs.drop(columns=['condition','benefitsReview','sideEffectsReview','commentsReview'])"
   ]
  },
  {
   "cell_type": "code",
   "execution_count": 11,
   "metadata": {},
   "outputs": [
    {
     "data": {
      "text/plain": [
       "array(['Highly Effective', 'Marginally Effective', 'Ineffective',\n",
       "       'Considerably Effective', 'Moderately Effective'], dtype=object)"
      ]
     },
     "execution_count": 11,
     "metadata": {},
     "output_type": "execute_result"
    }
   ],
   "source": [
    "drugs['effectiveness'].unique()"
   ]
  },
  {
   "attachments": {},
   "cell_type": "markdown",
   "metadata": {
    "colab_type": "text",
    "id": "OhaWDPt-8ZlT"
   },
   "source": [
    "### Descriptive Analysis"
   ]
  },
  {
   "attachments": {},
   "cell_type": "markdown",
   "metadata": {},
   "source": [
    "Quedate únicamente con las columnas que podamos manejar: Columnas numéricas y columnas categóricas con pocas categorías (menos de 10)"
   ]
  },
  {
   "attachments": {},
   "cell_type": "markdown",
   "metadata": {},
   "source": [
    "#### Transforma las columnas categóricas\n",
    "\n",
    "Transforma las columnas categoricas a numericas mediante dummies"
   ]
  },
  {
   "cell_type": "code",
   "execution_count": 12,
   "metadata": {},
   "outputs": [
    {
     "name": "stdout",
     "output_type": "stream",
     "text": [
      "<class 'pandas.core.frame.DataFrame'>\n",
      "Index: 3107 entries, 2202 to 2748\n",
      "Data columns (total 11 columns):\n",
      " #   Column                         Non-Null Count  Dtype\n",
      "---  ------                         --------------  -----\n",
      " 0   rating                         3107 non-null   int64\n",
      " 1   Considerably Effective         3107 non-null   bool \n",
      " 2   Highly Effective               3107 non-null   bool \n",
      " 3   Ineffective                    3107 non-null   bool \n",
      " 4   Marginally Effective           3107 non-null   bool \n",
      " 5   Moderately Effective           3107 non-null   bool \n",
      " 6   Extremely Severe Side Effects  3107 non-null   bool \n",
      " 7   Mild Side Effects              3107 non-null   bool \n",
      " 8   Moderate Side Effects          3107 non-null   bool \n",
      " 9   No Side Effects                3107 non-null   bool \n",
      " 10  Severe Side Effects            3107 non-null   bool \n",
      "dtypes: bool(10), int64(1)\n",
      "memory usage: 143.4 KB\n"
     ]
    }
   ],
   "source": [
    "### I'm up all night to get dummies\n",
    "drugs = drugs.join(pd.get_dummies(drugs['effectiveness']))\n",
    "drugs = drugs.join(pd.get_dummies(drugs['sideEffects']))\n",
    "drugs = drugs.drop(columns=['effectiveness','sideEffects','urlDrugName'])\n",
    "drugs.info()"
   ]
  },
  {
   "attachments": {},
   "cell_type": "markdown",
   "metadata": {},
   "source": [
    "#### Genera el K Means "
   ]
  },
  {
   "cell_type": "code",
   "execution_count": 31,
   "metadata": {},
   "outputs": [
    {
     "data": {
      "text/plain": [
       "np.float64(0.6055089618561077)"
      ]
     },
     "execution_count": 31,
     "metadata": {},
     "output_type": "execute_result"
    }
   ],
   "source": [
    "kmeans = KMeans(n_clusters=2, n_init=42, random_state=42)\n",
    "y_pred = kmeans.fit_predict(drugs)\n",
    "silhouette_score(drugs,kmeans.labels_)\n"
   ]
  },
  {
   "cell_type": "code",
   "execution_count": 30,
   "metadata": {},
   "outputs": [],
   "source": [
    "k = [2,3,4,5,6,7]\n",
    "results = {'k_number':[],'score':[]}\n",
    "for elem in k:\n",
    "    kmean = KMeans(n_clusters=elem, n_init=42, random_state=42)\n",
    "    y_pred = kmean.fit_predict(drugs)\n",
    "    results['k_number'].append(elem)\n",
    "    results['score'].append(round(silhouette_score(drugs,kmean.labels_),4)*100)\n"
   ]
  },
  {
   "attachments": {},
   "cell_type": "markdown",
   "metadata": {
    "colab_type": "text",
    "id": "HtBmwGdNnUGf"
   },
   "source": [
    "#### Evalua cual es la mejor K\n",
    "\n",
    "Utiliza silhouette_score para evaluar cual es la mejor K."
   ]
  },
  {
   "cell_type": "code",
   "execution_count": 25,
   "metadata": {},
   "outputs": [
    {
     "data": {
      "text/html": [
       "<div>\n",
       "<style scoped>\n",
       "    .dataframe tbody tr th:only-of-type {\n",
       "        vertical-align: middle;\n",
       "    }\n",
       "\n",
       "    .dataframe tbody tr th {\n",
       "        vertical-align: top;\n",
       "    }\n",
       "\n",
       "    .dataframe thead th {\n",
       "        text-align: right;\n",
       "    }\n",
       "</style>\n",
       "<table border=\"1\" class=\"dataframe\">\n",
       "  <thead>\n",
       "    <tr style=\"text-align: right;\">\n",
       "      <th></th>\n",
       "      <th>k_number</th>\n",
       "      <th>score</th>\n",
       "    </tr>\n",
       "  </thead>\n",
       "  <tbody>\n",
       "    <tr>\n",
       "      <th>0</th>\n",
       "      <td>2</td>\n",
       "      <td>60.55</td>\n",
       "    </tr>\n",
       "    <tr>\n",
       "      <th>1</th>\n",
       "      <td>3</td>\n",
       "      <td>43.82</td>\n",
       "    </tr>\n",
       "    <tr>\n",
       "      <th>5</th>\n",
       "      <td>7</td>\n",
       "      <td>41.40</td>\n",
       "    </tr>\n",
       "    <tr>\n",
       "      <th>2</th>\n",
       "      <td>4</td>\n",
       "      <td>39.71</td>\n",
       "    </tr>\n",
       "    <tr>\n",
       "      <th>4</th>\n",
       "      <td>6</td>\n",
       "      <td>38.49</td>\n",
       "    </tr>\n",
       "    <tr>\n",
       "      <th>3</th>\n",
       "      <td>5</td>\n",
       "      <td>35.63</td>\n",
       "    </tr>\n",
       "  </tbody>\n",
       "</table>\n",
       "</div>"
      ],
      "text/plain": [
       "   k_number  score\n",
       "0         2  60.55\n",
       "1         3  43.82\n",
       "5         7  41.40\n",
       "2         4  39.71\n",
       "4         6  38.49\n",
       "3         5  35.63"
      ]
     },
     "execution_count": 25,
     "metadata": {},
     "output_type": "execute_result"
    }
   ],
   "source": [
    "drugs_results = pd.DataFrame(results)\n",
    "drugs_results.sort_values(by='score',ascending=False)"
   ]
  },
  {
   "attachments": {},
   "cell_type": "markdown",
   "metadata": {},
   "source": [
    "Comprueba los resultados y muestra en un pie plot la distribución de los distintos clusters."
   ]
  },
  {
   "cell_type": "code",
   "execution_count": 39,
   "metadata": {},
   "outputs": [
    {
     "data": {
      "image/png": "[encoded data removed]",
      "text/plain": [
       "<Figure size 640x480 with 1 Axes>"
      ]
     },
     "metadata": {},
     "output_type": "display_data"
    }
   ],
   "source": [
    "kmean_distrib = pd.Series(kmeans.labels_).value_counts()\n",
    "plt.pie(kmean_distrib,labels=kmean_distrib.index,autopct='%.0f%%');"
   ]
  }
 ],
 "metadata": {
  "colab": {
   "collapsed_sections": [],
   "name": "kmeans-user-clustering.ipynb",
   "provenance": []
  },
  "kernelspec": {
   "display_name": "Python 3",
   "language": "python",
   "name": "python3"
  },
  "language_info": {
   "codemirror_mode": {
    "name": "ipython",
    "version": 3
   },
   "file_extension": ".py",
   "mimetype": "text/x-python",
   "name": "python",
   "nbconvert_exporter": "python",
   "pygments_lexer": "ipython3",
   "version": "3.12.5"
  },
  "nbTranslate": {
   "displayLangs": [
    "*"
   ],
   "hotkey": "alt-t",
   "langInMainMenu": true,
   "sourceLang": "en",
   "targetLang": "fr",
   "useGoogleTranslate": true
  },
  "varInspector": {
   "cols": {
    "lenName": 16,
    "lenType": 16,
    "lenVar": 40
   },
   "kernels_config": {
    "python": {
     "delete_cmd_postfix": "",
     "delete_cmd_prefix": "del ",
     "library": "var_list.py",
     "varRefreshCmd": "print(var_dic_list())"
    },
    "r": {
     "delete_cmd_postfix": ") ",
     "delete_cmd_prefix": "rm(",
     "library": "var_list.r",
     "varRefreshCmd": "cat(var_dic_list()) "
    }
   },
   "types_to_exclude": [
    "module",
    "function",
    "builtin_function_or_method",
    "instance",
    "_Feature"
   ],
   "window_display": false
  }
 },
 "nbformat": 4,
 "nbformat_minor": 4
}
