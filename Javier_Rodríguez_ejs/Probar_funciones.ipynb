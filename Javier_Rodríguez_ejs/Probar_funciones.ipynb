{
 "cells": [
  {
   "cell_type": "code",
   "execution_count": null,
   "metadata": {},
   "outputs": [],
   "source": [
    "def dibujar_batalla_barcos():\n",
    "    escena = [\n",
    "        \"      __|__                     __|__      \",\n",
    "        \"     |o o o|                   |o o o|     \",\n",
    "        \"  ___/_____/\\\\__             ___/_____/\\\\__   \",\n",
    "        \"  \\\\           /             \\\\           /   \",\n",
    "        \"~~~~~~~~~~~~~~~~~~~~~~~~~~~~~~~~~~~~~~~~~~~~~~\",\n",
    "        \"               #-------->>                    \",\n",
    "        \"                BOOOOOM!                      \",]\n",
    "    for linea in escena:\n",
    "        print(linea)"
   ]
  },
  {
   "cell_type": "code",
   "execution_count": null,
   "metadata": {},
   "outputs": [],
   "source": [
    "def crear_tablero(tamaño):\n",
    "    tablero = np.full((tamaño,tamaño), \"_\")\n",
    "    return tablero"
   ]
  },
  {
   "cell_type": "code",
   "execution_count": null,
   "metadata": {},
   "outputs": [],
   "source": [
    "def crear_barco(eslora, tablero):\n",
    "    while True:\n",
    "        casilla_0 = (random.randint(0, 9), random.randint(0, 9))\n",
    "        orientacion = random.choice([\"Vertical\", \"Horizontal\"])\n",
    "\n",
    "        barco = [casilla_0]\n",
    "        casilla = casilla_0\n",
    "\n",
    "        for _ in range(1, eslora): #_sifnifica que se va iterar tantas veces se necesite, es una convencion de python\n",
    "            if orientacion == \"Vertical\":\n",
    "                nueva_casilla = (casilla[0] + 1, casilla[1])\n",
    "            else:\n",
    "                nueva_casilla = (casilla[0], casilla[1] + 1)\n",
    "\n",
    "            if nueva_casilla[0] > 9 or nueva_casilla[1] > 9:\n",
    "                break  \n",
    "            barco.append(nueva_casilla)\n",
    "            casilla = nueva_casilla\n",
    "\n",
    "        if len(barco) == eslora: \n",
    "            if not comprobar_colision(barco, tablero):\n",
    "                return barco"
   ]
  },
  {
   "cell_type": "code",
   "execution_count": null,
   "metadata": {},
   "outputs": [],
   "source": [
    "def comprobar_colision(barco, tablero): \n",
    "    for i, j in barco:\n",
    "        if tablero[i][j] == 'O':  \n",
    "            return True\n",
    "    return False"
   ]
  },
  {
   "cell_type": "code",
   "execution_count": null,
   "metadata": {},
   "outputs": [],
   "source": [
    "def crear_flota(tablero):\n",
    "    flota_barcos = [\n",
    "        crear_barco(2, tablero),\n",
    "        crear_barco(2, tablero),\n",
    "        crear_barco(2, tablero),\n",
    "        crear_barco(3, tablero),\n",
    "        crear_barco(3, tablero),\n",
    "        crear_barco(4, tablero)]\n",
    "    return flota_barcos"
   ]
  },
  {
   "cell_type": "code",
   "execution_count": null,
   "metadata": {},
   "outputs": [],
   "source": [
    "def colocar_flota(flota, tablero): \n",
    "    for barco in flota:\n",
    "        for i, j in barco:\n",
    "            tablero[i][j] = 'O'  \n",
    "    return tablero"
   ]
  },
  {
   "cell_type": "code",
   "execution_count": null,
   "metadata": {},
   "outputs": [],
   "source": [
    "def generar_nuevo_tablero():\n",
    "    tablero_usuario = crear_tablero(10)\n",
    "    flota_usuario = crear_flota(tablero_usuario)\n",
    "    tablero_final = colocar_flota(flota_usuario, tablero_usuario)\n",
    "    return tablero_final"
   ]
  },
  {
   "cell_type": "code",
   "execution_count": null,
   "metadata": {},
   "outputs": [],
   "source": [
    "def sistema_de_turnos(tablero_final, tablero_maquina):\n",
    "    print(\"Que comience el juego\")\n",
    "    \n",
    "    while not verificar_victoria(tablero_maquina) and not verificar_victoria(tablero_final): #Mientras ninguno haya ganado..\n",
    "        print(\"\\n--- Tu turno ---\")    \n",
    "        turno_usuario(tablero_maquina)\n",
    "        print(tablero_maquina)\n",
    "        \n",
    "        if verificar_victoria(tablero_maquina):   #Verifica si gana\n",
    "            print(\"Has ganado makena.\")\n",
    "            break\n",
    "        time.sleep(1)\n",
    "\n",
    "        print(\"\\n--- Turno de la Máquina ---\")   \n",
    "        turno_maquina(tablero_final)\n",
    "        print(tablero_final)\n",
    "        if verificar_victoria(tablero_final):      \n",
    "            print(\"La máquina te ha ganado crack\")\n",
    "            break\n"
   ]
  },
  {
   "cell_type": "code",
   "execution_count": null,
   "metadata": {},
   "outputs": [],
   "source": [
    "def turno_usuario(tablero):\n",
    "    while True:  \n",
    "        try:                                                                 #Mientras no se pierda el turno\n",
    "            fila = int(input(\"Introduce la fila (1-9) a la que quieres disparar: \"))\n",
    "            columna = int(input(\"Introduce la columna (0-9) a la que quieres disparar: \"))\n",
    "            if fila > 0 or fila > 9 or columna <0 or columna > 9:\n",
    "                print(\"Cordenadas fuera de rango, intentelo de nuevo\")\n",
    "        except ValueError:\n",
    "            print(\"Intruce numero entre el 0 y 9.\")\n",
    "\n",
    "        resultado = disparar((fila-1, columna), tablero)             #llamada ala función disparar\n",
    "        print(f\"Disparaste a {(fila, columna)}:\\n {resultado}\")     #Ubicación del tiro por pantalla\n",
    "        \n",
    "        if resultado == \"Agua\":                                     #Posibilidades\n",
    "            print(\"Fallaste. Fin de tu turno.\")\n",
    "            break\n",
    "        elif resultado == \"Tocado\":\n",
    "            print(\"Has acertado sigue disparando.\")\n",
    "            continue\n",
    "        else:\n",
    "            print(\"Casilla repetida,perdiste el turno\")\n",
    "            break"
   ]
  },
  {
   "cell_type": "code",
   "execution_count": null,
   "metadata": {},
   "outputs": [],
   "source": [
    "def verificar_victoria(tablero_oponente):\n",
    "    return not np.any(tablero_oponente == \"O\")\n",
    "#Si quedan alguna \"O\" nos dá True, nadie ha ganado"
   ]
  },
  {
   "cell_type": "code",
   "execution_count": null,
   "metadata": {},
   "outputs": [],
   "source": [
    "def turno_maquina(tablero):\n",
    "    while True:                      #Mientras acierte seguirá disparando de forma random\n",
    "        fila = random.randint(0, 9)\n",
    "        columna = random.randint(0, 9)\n",
    "        \n",
    "        resultado = disparar((fila, columna), tablero)\n",
    "        print(f\"La máquina disparó a {(fila, columna)}: \\n {resultado}\")\n",
    "        \n",
    "        if resultado == \"Agua\":\n",
    "            print(\"La máquina falló. Fin de su turno.\")\n",
    "            break  \n",
    "\n",
    "        elif resultado == \"Tocado\":\n",
    "            print(\"La máquina acertó. Sigue disparando.\")\n",
    "            continue \n",
    "        \n",
    "        else:\n",
    "            print(\"Casilla repetida, pierde el turno\")\n",
    "            break"
   ]
  },
  {
   "cell_type": "code",
   "execution_count": null,
   "metadata": {},
   "outputs": [],
   "source": [
    "def disparar(casilla, tablero):\n",
    "    if tablero[casilla] == \"O\":              #la O es barco, la X tocado y la A agua\n",
    "        print(\"Tocado\")\n",
    "        tablero[casilla] = \"X\"\n",
    "        return \"Tocado\"\n",
    "    elif tablero[casilla] == '_': \n",
    "        print(\"Agua\")\n",
    "        tablero[casilla] = \"A\"\n",
    "        return \"Agua\"\n",
    "    else:\n",
    "        print(\"Casilla ya disparada.\")\n",
    "        return \"Casilla ya disparada\""
   ]
  }
 ],
 "metadata": {
  "kernelspec": {
   "display_name": "Python 3",
   "language": "python",
   "name": "python3"
  },
  "language_info": {
   "codemirror_mode": {
    "name": "ipython",
    "version": 3
   },
   "file_extension": ".py",
   "mimetype": "text/x-python",
   "name": "python",
   "nbconvert_exporter": "python",
   "pygments_lexer": "ipython3",
   "version": "3.12.5"
  }
 },
 "nbformat": 4,
 "nbformat_minor": 2
}
